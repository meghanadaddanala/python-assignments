{
  "nbformat": 4,
  "nbformat_minor": 0,
  "metadata": {
    "colab": {
      "name": "4a6 assignment2",
      "provenance": []
    },
    "kernelspec": {
      "name": "python3",
      "display_name": "Python 3"
    }
  },
  "cells": [
    {
      "cell_type": "code",
      "metadata": {
        "id": "gnFhTRjLEPun",
        "colab_type": "code",
        "colab": {
          "base_uri": "https://localhost:8080/",
          "height": 51
        },
        "outputId": "62c72ba1-7862-4706-d9e5-03891412f7b4"
      },
      "source": [
        "#1\n",
        "year=int(input(\"enter the year :\"))\n",
        "items=[\"monkey\",\"roaster\",\"dog\",\"pig\",\"rat\",\"ox\",\"tiger\",\"rabbit\",\"dragon\",\"snake\",\"horse\",\"sheep\"]\n",
        "value=items[year%12]\n",
        "print(value)"
      ],
      "execution_count": null,
      "outputs": [
        {
          "output_type": "stream",
          "text": [
            "enter the year :2002\n",
            "horse\n"
          ],
          "name": "stdout"
        }
      ]
    },
    {
      "cell_type": "code",
      "metadata": {
        "id": "CVy2xn5ZHveT",
        "colab_type": "code",
        "colab": {
          "base_uri": "https://localhost:8080/",
          "height": 68
        },
        "outputId": "598a1586-9518-4202-a785-4dda1b567cf2"
      },
      "source": [
        "#2\n",
        "d=int(input(\"enter distance\"))\n",
        "w=int(input(\"enter weight\"))\n",
        "if d>=500 :\n",
        "  if w>=100 :\n",
        "    value=5*d\n",
        "  elif w>=10 and w<100 :\n",
        "    value=6*d\n",
        "  else:\n",
        "    value=7*d\n",
        "else:\n",
        "  if w>=100:\n",
        "    value=8*d\n",
        "  else:\n",
        "    value=9*d\n",
        "  print(value)"
      ],
      "execution_count": null,
      "outputs": [
        {
          "output_type": "stream",
          "text": [
            "enter distance10\n",
            "enter weight5\n",
            "90\n"
          ],
          "name": "stdout"
        }
      ]
    },
    {
      "cell_type": "code",
      "metadata": {
        "id": "RWJ3rvTYNutO",
        "colab_type": "code",
        "colab": {
          "base_uri": "https://localhost:8080/",
          "height": 102
        },
        "outputId": "8b83796c-f5e2-4572-c391-a5440b39b868"
      },
      "source": [
        "#3\n",
        "print(\"seats available: stalls,circles,upper class,box\")\n",
        "s=input(\"enter seat\")\n",
        "if s=='stalls' :\n",
        "  a=625\n",
        "elif s=='circles' :\n",
        "    a=750\n",
        "elif s=='upper class' :\n",
        "      a=850\n",
        "elif s=='box' :\n",
        "        a=1000\n",
        "print(\"payment mode: cash card\")\n",
        "p= input(\"enter mode\")\n",
        "if p=='card' :\n",
        "          a=a-a*(10/100)\n",
        "          print(a)\n",
        "else :\n",
        "          a=a-a*(1/20)\n",
        "          print(a)\n"
      ],
      "execution_count": null,
      "outputs": [
        {
          "output_type": "stream",
          "text": [
            "seats available: stalls,circles,upper class,box\n",
            "enter seatbox\n",
            "payment mode: cash card\n",
            "enter modecard\n",
            "900.0\n"
          ],
          "name": "stdout"
        }
      ]
    },
    {
      "cell_type": "code",
      "metadata": {
        "id": "-mtXdURlOBpV",
        "colab_type": "code",
        "colab": {
          "base_uri": "https://localhost:8080/",
          "height": 85
        },
        "outputId": "549813c2-a221-4c5e-beb6-3d868a6f278b"
      },
      "source": [
        "#4\n",
        "weight=int(input(\"enter weight of water in kg's\"))\n",
        "inital=int(input(\"enter initial temp\"))\n",
        "final=int(input(\"enter final temp\"))\n",
        "v=(weight)*(final-inital)*4184\n",
        "print(v)"
      ],
      "execution_count": null,
      "outputs": [
        {
          "output_type": "stream",
          "text": [
            "enter weight of water in kg's200\n",
            "enter initial temp55\n",
            "enter final temp90\n",
            "29288000\n"
          ],
          "name": "stdout"
        }
      ]
    },
    {
      "cell_type": "code",
      "metadata": {
        "id": "Tt0JtLIBHwSR",
        "colab_type": "code",
        "colab": {
          "base_uri": "https://localhost:8080/",
          "height": 51
        },
        "outputId": "0cf3e09f-fb6a-4be6-cd52-5e4304d76592"
      },
      "source": [
        "#5\n",
        "m=input(\"enter the month\")\n",
        "if (m=='december' or m=='january' or m=='february') :\n",
        "  print(\"winter\")\n",
        "elif (m== 'march' or m=='april' or  m=='may') :\n",
        "  print(\"spring\")\n",
        "elif (m== 'june' or m=='july' or  m=='august') :\n",
        "  print(\"summer\")\n",
        "else :\n",
        "  print(\"autumn\")\n",
        "\n"
      ],
      "execution_count": null,
      "outputs": [
        {
          "output_type": "stream",
          "text": [
            "enter the monthjune\n",
            "summer\n"
          ],
          "name": "stdout"
        }
      ]
    },
    {
      "cell_type": "code",
      "metadata": {
        "id": "CfkcRL7bSAki",
        "colab_type": "code",
        "colab": {
          "base_uri": "https://localhost:8080/",
          "height": 68
        },
        "outputId": "c67db141-2dc4-4444-ea4b-cf48d79be326"
      },
      "source": [
        "#6\n",
        "w=int(input(\"enter weight\"))\n",
        "h=int(input(\"enter height\"))\n",
        "v=(w*0.45359237)/(h*0.0254)**2\n",
        "if v<18.5 :\n",
        "  print(\"under weight\")\n",
        "elif 25.0<=v<30.0 :\n",
        "  print(\"over weight\")\n",
        "else :\n",
        "  print(\"obese\")"
      ],
      "execution_count": null,
      "outputs": [
        {
          "output_type": "stream",
          "text": [
            "enter weight55\n",
            "enter height152\n",
            "under weight\n"
          ],
          "name": "stdout"
        }
      ]
    },
    {
      "cell_type": "code",
      "metadata": {
        "id": "rXMIXWpqSA9g",
        "colab_type": "code",
        "colab": {
          "base_uri": "https://localhost:8080/",
          "height": 51
        },
        "outputId": "8ef73f48-78a8-41ec-c029-6bea5cff4d7e"
      },
      "source": [
        "#7\n",
        "i=int(input(\"enter the elements b/w 100 to 1000\"))\n",
        "sum=0\n",
        "while i>0:\n",
        "  n=i%10\n",
        "  sum=sum+n\n",
        "  i=int(i/10)\n",
        "print(sum)"
      ],
      "execution_count": null,
      "outputs": [
        {
          "output_type": "stream",
          "text": [
            "enter the elements b/w 100 to 1000825\n",
            "15\n"
          ],
          "name": "stdout"
        }
      ]
    },
    {
      "cell_type": "code",
      "metadata": {
        "id": "8hP3I3MMSBBI",
        "colab_type": "code",
        "colab": {
          "base_uri": "https://localhost:8080/",
          "height": 54
        },
        "outputId": "a32a9225-2e8a-41a4-927e-a1e8432acf6c"
      },
      "source": [
        "#8\n",
        "for i in range(1,1001):\n",
        "  sum=0\n",
        "  p=i\n",
        "  while i>0 :\n",
        "    n=i%10\n",
        "    sum=sum*10+n\n",
        "    i=i//10\n",
        "    if p==sum :\n",
        "      print(p,end=\" \")\n"
      ],
      "execution_count": null,
      "outputs": [
        {
          "output_type": "stream",
          "text": [
            "1 2 3 4 5 6 7 8 9 11 22 33 44 55 66 77 88 99 101 111 121 131 141 151 161 171 181 191 202 212 222 232 242 252 262 272 282 292 303 313 323 333 343 353 363 373 383 393 404 414 424 434 444 454 464 474 484 494 505 515 525 535 545 555 565 575 585 595 606 616 626 636 646 656 666 676 686 696 707 717 727 737 747 757 767 777 787 797 808 818 828 838 848 858 868 878 888 898 909 919 929 939 949 959 969 979 989 999 "
          ],
          "name": "stdout"
        }
      ]
    },
    {
      "cell_type": "code",
      "metadata": {
        "id": "06253gWNdwS7",
        "colab_type": "code",
        "colab": {
          "base_uri": "https://localhost:8080/",
          "height": 34
        },
        "outputId": "94869936-cd46-430a-fc6b-1fa516f4cd7d"
      },
      "source": [
        "#9\n",
        "for i in range(1,1001) :\n",
        "  sum=0\n",
        "  t=i\n",
        "  while i>0:\n",
        "    n=i%10\n",
        "    sum+=n*n*n\n",
        "    i=i//10\n",
        "  if sum==t:\n",
        "      print(t,end=\" \")"
      ],
      "execution_count": null,
      "outputs": [
        {
          "output_type": "stream",
          "text": [
            "1 153 370 371 407 "
          ],
          "name": "stdout"
        }
      ]
    },
    {
      "cell_type": "code",
      "metadata": {
        "id": "djXOiopgUdMs",
        "colab_type": "code",
        "colab": {
          "base_uri": "https://localhost:8080/",
          "height": 1000
        },
        "outputId": "614bd19e-8bbf-4a52-de16-3458a6633795"
      },
      "source": [
        "#10\n",
        "for i in range(1,101):\n",
        "  if i%3==0 and i%5==0 :\n",
        "    print(\"fizz buzz\")\n",
        "  elif i % 3==0 :\n",
        "    print(\"fizz\")\n",
        "  elif i % 5==0 :\n",
        "    print(\"Buzz\")\n",
        "  else :\n",
        "    print(i)\n",
        "\n"
      ],
      "execution_count": null,
      "outputs": [
        {
          "output_type": "stream",
          "text": [
            "1\n",
            "2\n",
            "fizz\n",
            "4\n",
            "buzz\n",
            "fizz\n",
            "7\n",
            "8\n",
            "fizz\n",
            "buzz\n",
            "11\n",
            "fizz\n",
            "13\n",
            "14\n",
            "fizz buzz\n",
            "16\n",
            "17\n",
            "fizz\n",
            "19\n",
            "buzz\n",
            "fizz\n",
            "22\n",
            "23\n",
            "fizz\n",
            "buzz\n",
            "26\n",
            "fizz\n",
            "28\n",
            "29\n",
            "fizz buzz\n",
            "31\n",
            "32\n",
            "fizz\n",
            "34\n",
            "buzz\n",
            "fizz\n",
            "37\n",
            "38\n",
            "fizz\n",
            "buzz\n",
            "41\n",
            "fizz\n",
            "43\n",
            "44\n",
            "fizz buzz\n",
            "46\n",
            "47\n",
            "fizz\n",
            "49\n",
            "buzz\n",
            "fizz\n",
            "52\n",
            "53\n",
            "fizz\n",
            "buzz\n",
            "56\n",
            "fizz\n",
            "58\n",
            "59\n",
            "fizz buzz\n",
            "61\n",
            "62\n",
            "fizz\n",
            "64\n",
            "buzz\n",
            "fizz\n",
            "67\n",
            "68\n",
            "fizz\n",
            "buzz\n",
            "71\n",
            "fizz\n",
            "73\n",
            "74\n",
            "fizz buzz\n",
            "76\n",
            "77\n",
            "fizz\n",
            "79\n",
            "buzz\n",
            "fizz\n",
            "82\n",
            "83\n",
            "fizz\n",
            "buzz\n",
            "86\n",
            "fizz\n",
            "88\n",
            "89\n",
            "fizz buzz\n",
            "91\n",
            "92\n",
            "fizz\n",
            "94\n",
            "buzz\n",
            "fizz\n",
            "97\n",
            "98\n",
            "fizz\n",
            "buzz\n"
          ],
          "name": "stdout"
        }
      ]
    },
    {
      "cell_type": "code",
      "metadata": {
        "id": "B_v8tBEhUdV4",
        "colab_type": "code",
        "colab": {
          "base_uri": "https://localhost:8080/",
          "height": 85
        },
        "outputId": "f124ceab-9a52-4c51-854f-82b39deec13c"
      },
      "source": [
        "#11\n",
        "H= int(input(\"enter the height of well=\"))\n",
        "U= int(input(\"enter the meters which are climbed=\"))\n",
        "D= int(input(\"enter slips down=\"))\n",
        "s=((H-U)+(U-D))//(U-D)\n",
        "print(s+1)"
      ],
      "execution_count": null,
      "outputs": [
        {
          "output_type": "stream",
          "text": [
            "enter the height of well=100\n",
            "enter the meters which are climbed=50\n",
            "enter slips down=1\n",
            "3\n"
          ],
          "name": "stdout"
        }
      ]
    }
  ]
}