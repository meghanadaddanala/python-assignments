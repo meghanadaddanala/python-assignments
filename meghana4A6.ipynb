{
  "nbformat": 4,
  "nbformat_minor": 0,
  "metadata": {
    "colab": {
      "name": "meghana4A6.ipynb",
      "provenance": [],
      "collapsed_sections": []
    },
    "kernelspec": {
      "name": "python3",
      "display_name": "Python 3"
    }
  },
  "cells": [
    {
      "cell_type": "code",
      "metadata": {
        "id": "OTWJj6h1iWcb",
        "colab_type": "code",
        "colab": {
          "base_uri": "https://localhost:8080/",
          "height": 102
        },
        "outputId": "e0fa4e79-0289-4139-84ca-998d4595a07a"
      },
      "source": [
        "#1\n",
        "print(0.1+0.2)\n",
        "print(\"1.8\"+\"2\")\n",
        "print(87>78)\n",
        "print((0.1+0.2)==0.3)\n",
        "print(\"predict \" \"output\" ,\"....\")"
      ],
      "execution_count": 2,
      "outputs": [
        {
          "output_type": "stream",
          "text": [
            "0.30000000000000004\n",
            "1.82\n",
            "True\n",
            "False\n",
            "predict output ....\n"
          ],
          "name": "stdout"
        }
      ]
    },
    {
      "cell_type": "code",
      "metadata": {
        "id": "5eRVIsjYjhgb",
        "colab_type": "code",
        "colab": {
          "base_uri": "https://localhost:8080/",
          "height": 265
        },
        "outputId": "daa076a6-f5c8-4740-b628-adf642fa3203"
      },
      "source": [
        "#2\n",
        "print(\"prints\",\"multiple \",\"messages\\n\")\n",
        "print(\"concatenate \"+\" two strings\\n\")\n",
        "print(5+6+\"adda two numbers\\n\")"
      ],
      "execution_count": 3,
      "outputs": [
        {
          "output_type": "stream",
          "text": [
            "prints multiple  messages\n",
            "\n",
            "concatenate  two strings\n",
            "\n"
          ],
          "name": "stdout"
        },
        {
          "output_type": "error",
          "ename": "TypeError",
          "evalue": "ignored",
          "traceback": [
            "\u001b[0;31m---------------------------------------------------------------------------\u001b[0m",
            "\u001b[0;31mTypeError\u001b[0m                                 Traceback (most recent call last)",
            "\u001b[0;32m<ipython-input-3-5ac958384089>\u001b[0m in \u001b[0;36m<module>\u001b[0;34m()\u001b[0m\n\u001b[1;32m      1\u001b[0m \u001b[0mprint\u001b[0m\u001b[0;34m(\u001b[0m\u001b[0;34m\"prints\"\u001b[0m\u001b[0;34m,\u001b[0m\u001b[0;34m\"multiple \"\u001b[0m\u001b[0;34m,\u001b[0m\u001b[0;34m\"messages\\n\"\u001b[0m\u001b[0;34m)\u001b[0m\u001b[0;34m\u001b[0m\u001b[0;34m\u001b[0m\u001b[0m\n\u001b[1;32m      2\u001b[0m \u001b[0mprint\u001b[0m\u001b[0;34m(\u001b[0m\u001b[0;34m\"concatenate \"\u001b[0m\u001b[0;34m+\u001b[0m\u001b[0;34m\" two strings\\n\"\u001b[0m\u001b[0;34m)\u001b[0m\u001b[0;34m\u001b[0m\u001b[0;34m\u001b[0m\u001b[0m\n\u001b[0;32m----> 3\u001b[0;31m \u001b[0mprint\u001b[0m\u001b[0;34m(\u001b[0m\u001b[0;36m5\u001b[0m\u001b[0;34m+\u001b[0m\u001b[0;36m6\u001b[0m\u001b[0;34m+\u001b[0m\u001b[0;34m\"adda two numbers\\n\"\u001b[0m\u001b[0;34m)\u001b[0m\u001b[0;34m\u001b[0m\u001b[0;34m\u001b[0m\u001b[0m\n\u001b[0m",
            "\u001b[0;31mTypeError\u001b[0m: unsupported operand type(s) for +: 'int' and 'str'"
          ]
        }
      ]
    },
    {
      "cell_type": "code",
      "metadata": {
        "id": "ZdvNzS5GkSFp",
        "colab_type": "code",
        "colab": {
          "base_uri": "https://localhost:8080/",
          "height": 51
        },
        "outputId": "81b5a0c1-0324-4343-bad9-525abb1df69b"
      },
      "source": [
        "#3\n",
        "print(\"ba\"+\"na\"*2)\n",
        "print(\"C:\\\\naresh\\\\raju\\\\abhi\")"
      ],
      "execution_count": 5,
      "outputs": [
        {
          "output_type": "stream",
          "text": [
            "banana\n",
            "C:\\naresh\\raju\\abhi\n"
          ],
          "name": "stdout"
        }
      ]
    },
    {
      "cell_type": "code",
      "metadata": {
        "id": "vHzz_KrOkz_o",
        "colab_type": "code",
        "colab": {
          "base_uri": "https://localhost:8080/",
          "height": 34
        },
        "outputId": "d915bcca-85fd-4330-cb02-9f917f11b465"
      },
      "source": [
        "#4\n",
        "'Welcome to python traning program'[-4:-33:-4]"
      ],
      "execution_count": 6,
      "outputs": [
        {
          "output_type": "execute_result",
          "data": {
            "text/plain": [
              "'g n tome'"
            ]
          },
          "metadata": {
            "tags": []
          },
          "execution_count": 6
        }
      ]
    },
    {
      "cell_type": "code",
      "metadata": {
        "id": "KSkPBZ9rnfQI",
        "colab_type": "code",
        "colab": {
          "base_uri": "https://localhost:8080/",
          "height": 68
        },
        "outputId": "50fd1fc6-b611-4c26-b010-0c20f779d807"
      },
      "source": [
        "#5\n",
        "print( 'A series of characters designated as one object known as a string'[::-1][4::3] )\n",
        "print(\"-----------\")\n",
        "print( 'Welcome to python traning program'[3:10][::-1] )"
      ],
      "execution_count": 8,
      "outputs": [
        {
          "output_type": "stream",
          "text": [
            "taawkcbe  tgestrcoeeA\n",
            "-----------\n",
            "ot emoc\n"
          ],
          "name": "stdout"
        }
      ]
    },
    {
      "cell_type": "code",
      "metadata": {
        "id": "Q0oqVQ59ogNq",
        "colab_type": "code",
        "colab": {
          "base_uri": "https://localhost:8080/",
          "height": 51
        },
        "outputId": "1aa1d0dc-1e4b-48a1-bc31-b7e7f4a5bd90"
      },
      "source": [
        "# 6a\n",
        "str1=True\n",
        "x= 5 > 3\n",
        "print(str1==x)\n",
        "y= 5 > 8\n",
        "print(str1==y)"
      ],
      "execution_count": 9,
      "outputs": [
        {
          "output_type": "stream",
          "text": [
            "True\n",
            "False\n"
          ],
          "name": "stdout"
        }
      ]
    },
    {
      "cell_type": "code",
      "metadata": {
        "id": "cpcgckQiph83",
        "colab_type": "code",
        "colab": {
          "base_uri": "https://localhost:8080/",
          "height": 34
        },
        "outputId": "a2945d90-4732-4833-e7bf-1961985fcd7f"
      },
      "source": [
        "#6b\n",
        "num=7\n",
        "Name = \"Micheal Jackson\"\n",
        "sear_num = Name.find('el')\n",
        "print(num > sear_num )"
      ],
      "execution_count": 10,
      "outputs": [
        {
          "output_type": "stream",
          "text": [
            "True\n"
          ],
          "name": "stdout"
        }
      ]
    },
    {
      "cell_type": "code",
      "metadata": {
        "id": "9ENORPtgqHrV",
        "colab_type": "code",
        "colab": {
          "base_uri": "https://localhost:8080/",
          "height": 34
        },
        "outputId": "b8b4b2d1-76bc-41ec-b99f-5a7c6e702434"
      },
      "source": [
        "#7\n",
        "p_phrase=\"was it a car or a cat I saw\".upper()\n",
        "p_phrase[::-1]"
      ],
      "execution_count": 11,
      "outputs": [
        {
          "output_type": "execute_result",
          "data": {
            "text/plain": [
              "'WAS I TAC A RO RAC A TI SAW'"
            ]
          },
          "metadata": {
            "tags": []
          },
          "execution_count": 11
        }
      ]
    },
    {
      "cell_type": "code",
      "metadata": {
        "id": "QOZF5pm6qlhe",
        "colab_type": "code",
        "colab": {
          "base_uri": "https://localhost:8080/",
          "height": 34
        },
        "outputId": "54e14d74-e04c-417b-fe53-c28b685b9326"
      },
      "source": [
        "#8\n",
        "A=\"1934567\"\n",
        "out=A[1:7:2]\n",
        "print(out)\n"
      ],
      "execution_count": 12,
      "outputs": [
        {
          "output_type": "stream",
          "text": [
            "946\n"
          ],
          "name": "stdout"
        }
      ]
    },
    {
      "cell_type": "code",
      "metadata": {
        "id": "j9CKTqcSqzg0",
        "colab_type": "code",
        "colab": {
          "base_uri": "https://localhost:8080/",
          "height": 34
        },
        "outputId": "3b0fd697-db24-44be-bc7e-95e3c932492d"
      },
      "source": [
        "#9\n",
        "fake_phrase = \"Fake news has a knack for spreading like wildfire\".upper()\n",
        "out=fake_phrase[-9:14:-1]\n",
        "out.split()"
      ],
      "execution_count": 13,
      "outputs": [
        {
          "output_type": "execute_result",
          "data": {
            "text/plain": [
              "['EKIL', 'GNIDAERPS', 'ROF', 'KCANK']"
            ]
          },
          "metadata": {
            "tags": []
          },
          "execution_count": 13
        }
      ]
    },
    {
      "cell_type": "code",
      "metadata": {
        "id": "wGDEPDlqscWF",
        "colab_type": "code",
        "colab": {
          "base_uri": "https://localhost:8080/",
          "height": 34
        },
        "outputId": "6b4b9943-523a-4d2c-b212-30e5183dbb6b"
      },
      "source": [
        "#10\n",
        "msg1=\"facebook already uses AI to filter fake stories from the feeds\"\n",
        "out=msg1.split()\n",
        "print(out)"
      ],
      "execution_count": 18,
      "outputs": [
        {
          "output_type": "stream",
          "text": [
            "['facebook', 'already', 'uses', 'AI', 'to', 'filter', 'fake', 'stories', 'from', 'the', 'feeds']\n"
          ],
          "name": "stdout"
        }
      ]
    },
    {
      "cell_type": "code",
      "metadata": {
        "id": "IJpmrRG1stcC",
        "colab_type": "code",
        "colab": {
          "base_uri": "https://localhost:8080/",
          "height": 34
        },
        "outputId": "5ba1f324-cb8f-4ab8-dd1e-310089be1b86"
      },
      "source": [
        "#11\n",
        "msg2=\"Welcome to sr engineering college\"\n",
        "x=msg2.count(\"o\")\n",
        "y=msg2.count(\"r\")\n",
        "msg2[y**x:(x**y+x+y):][::-1]"
      ],
      "execution_count": 19,
      "outputs": [
        {
          "output_type": "execute_result",
          "data": {
            "text/plain": [
              "' rs ot'"
            ]
          },
          "metadata": {
            "tags": []
          },
          "execution_count": 19
        }
      ]
    },
    {
      "cell_type": "code",
      "metadata": {
        "id": "30OS4NkUtFJK",
        "colab_type": "code",
        "colab": {
          "base_uri": "https://localhost:8080/",
          "height": 34
        },
        "outputId": "8d585e97-bda5-4cbf-da7a-22fdcd995d50"
      },
      "source": [
        "#12\n",
        "num1,num2=\"94\",\"30\"\n",
        "data=\"As per census 2011, Gender ratio of india is 943 females per 1000 males\"\n",
        "num1+num2[0] in data"
      ],
      "execution_count": 21,
      "outputs": [
        {
          "output_type": "execute_result",
          "data": {
            "text/plain": [
              "True"
            ]
          },
          "metadata": {
            "tags": []
          },
          "execution_count": 21
        }
      ]
    },
    {
      "cell_type": "code",
      "metadata": {
        "id": "_3MUkqpDtS2_",
        "colab_type": "code",
        "colab": {
          "base_uri": "https://localhost:8080/",
          "height": 51
        },
        "outputId": "404b7073-1b71-4b60-f34e-ae5a4d10fc5e"
      },
      "source": [
        "#12\n",
        "print(data[:45],print(int(num1)+int(num2)))"
      ],
      "execution_count": 22,
      "outputs": [
        {
          "output_type": "stream",
          "text": [
            "124\n",
            "As per census 2011, Gender ratio of india is  None\n"
          ],
          "name": "stdout"
        }
      ]
    },
    {
      "cell_type": "code",
      "metadata": {
        "id": "dwswydYnt1fX",
        "colab_type": "code",
        "colab": {
          "base_uri": "https://localhost:8080/",
          "height": 85
        },
        "outputId": "305377f2-3743-4de7-fc31-c370321cf297"
      },
      "source": [
        "#13\n",
        "M=int(input(\"enter water in kilograms\"))\n",
        "i=int(input(\"enter initial temp\"))\n",
        "f=int (input(\"enter final temp\"))\n",
        "Q=M*(f-i)*4184\n",
        "print(Q)"
      ],
      "execution_count": 24,
      "outputs": [
        {
          "output_type": "stream",
          "text": [
            "enter water in kilograms10\n",
            "enter initial temp90\n",
            "enter final temp100\n",
            "418400\n"
          ],
          "name": "stdout"
        }
      ]
    },
    {
      "cell_type": "code",
      "metadata": {
        "id": "-8C0RQ2wuQGP",
        "colab_type": "code",
        "colab": {
          "base_uri": "https://localhost:8080/",
          "height": 51
        },
        "outputId": "73834f14-e683-4c6e-ae97-c27597c190d8"
      },
      "source": [
        "#14\n",
        "x=int(input (\"enter x value\"))\n",
        "y=2*x\n",
        "z=(\"z\"*x)+(\"o\"*y)\n",
        "print(z)"
      ],
      "execution_count": 26,
      "outputs": [
        {
          "output_type": "stream",
          "text": [
            "enter x value5\n",
            "zzzzzoooooooooo\n"
          ],
          "name": "stdout"
        }
      ]
    },
    {
      "cell_type": "code",
      "metadata": {
        "id": "TXHZBI7Qup-1",
        "colab_type": "code",
        "colab": {
          "base_uri": "https://localhost:8080/",
          "height": 102
        },
        "outputId": "14fd5674-b47f-4542-9234-0808b618706e"
      },
      "source": [
        "#15\n",
        "x=int(input(\"enter the value\"))\n",
        "y=int(input(\"enter the power\"))\n",
        "pow=(x**y)\n",
        "print(pow)\n",
        "div=int(pow/(x*y))\n",
        "print(div)\n",
        "print(div^(x+y))"
      ],
      "execution_count": 27,
      "outputs": [
        {
          "output_type": "stream",
          "text": [
            "enter the value5\n",
            "enter the power2\n",
            "25\n",
            "2\n",
            "5\n"
          ],
          "name": "stdout"
        }
      ]
    },
    {
      "cell_type": "code",
      "metadata": {
        "id": "WqUz25BevJQn",
        "colab_type": "code",
        "colab": {}
      },
      "source": [
        ""
      ],
      "execution_count": null,
      "outputs": []
    }
  ]
}