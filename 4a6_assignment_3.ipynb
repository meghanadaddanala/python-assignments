{
  "nbformat": 4,
  "nbformat_minor": 0,
  "metadata": {
    "colab": {
      "name": "4a6 assignment 3",
      "provenance": []
    },
    "kernelspec": {
      "name": "python3",
      "display_name": "Python 3"
    }
  },
  "cells": [
    {
      "cell_type": "code",
      "metadata": {
        "id": "XqeQD_KaWF7b",
        "colab_type": "code",
        "colab": {
          "base_uri": "https://localhost:8080/",
          "height": 85
        },
        "outputId": "03897228-939b-42c8-aba4-2899c6c61865"
      },
      "source": [
        "#1\n",
        "l1=int(input(\"enter first length\"))\n",
        "l2=int(input(\"enter second length\"))\n",
        "l3=int(input(\"enter third length\"))\n",
        "s=(l1+l2+l3)/2\n",
        "a=(s*(s-l1)*(s-l2)*(s-l3))**0.5\n",
        "print(a)"
      ],
      "execution_count": 4,
      "outputs": [
        {
          "output_type": "stream",
          "text": [
            "enter first length6\n",
            "enter second length9\n",
            "enter third length8\n",
            "23.525252389719434\n"
          ],
          "name": "stdout"
        }
      ]
    },
    {
      "cell_type": "code",
      "metadata": {
        "id": "03jCWSJhXgli",
        "colab_type": "code",
        "colab": {
          "base_uri": "https://localhost:8080/",
          "height": 51
        },
        "outputId": "018c84e6-ab8b-4b01-9869-9b7525c4a59f"
      },
      "source": [
        "#2\n",
        "string=input(\"enter string\")\n",
        "if (string==string[::-1]) :\n",
        "  print(\"given string is palindrome\")\n",
        "else :\n",
        "  print(\"not a palindrome\")\n",
        "\n"
      ],
      "execution_count": 7,
      "outputs": [
        {
          "output_type": "stream",
          "text": [
            "enter stringmadam\n",
            "given string is palindrome\n"
          ],
          "name": "stdout"
        }
      ]
    },
    {
      "cell_type": "code",
      "metadata": {
        "id": "d7SBrOtIYaME",
        "colab_type": "code",
        "colab": {
          "base_uri": "https://localhost:8080/",
          "height": 51
        },
        "outputId": "bbda3185-fd4e-4e0e-941e-02c4d019f776"
      },
      "source": [
        "#3\n",
        "year=int(input(\"enter year:\"))\n",
        "if (year%4==0) :\n",
        "  print (\"{} is a leap year\".format(year))\n",
        "else :\n",
        "  print(\"{} is not a leap year\".format(year))\n",
        "  "
      ],
      "execution_count": 8,
      "outputs": [
        {
          "output_type": "stream",
          "text": [
            "enter year:2020\n",
            "2020 is a leap year\n"
          ],
          "name": "stdout"
        }
      ]
    },
    {
      "cell_type": "code",
      "metadata": {
        "id": "9mbj8-QXZx6I",
        "colab_type": "code",
        "colab": {
          "base_uri": "https://localhost:8080/",
          "height": 68
        },
        "outputId": "10223dfb-44b1-44ed-d10f-9629671e2dd2"
      },
      "source": [
        "#4\n",
        "string1=input(\"enter the string\")\n",
        "print(string1)\n",
        "string2=string1.replace(' ','-')\n",
        "print(string2)"
      ],
      "execution_count": 11,
      "outputs": [
        {
          "output_type": "stream",
          "text": [
            "enter the stringthis program converts spaces to hyphen\n",
            "this program converts spaces to hyphen\n",
            "this-program-converts-spaces-to-hyphen\n"
          ],
          "name": "stdout"
        }
      ]
    },
    {
      "cell_type": "code",
      "metadata": {
        "id": "rey8_UjtaZq4",
        "colab_type": "code",
        "colab": {
          "base_uri": "https://localhost:8080/",
          "height": 51
        },
        "outputId": "64a62800-0034-4d77-aff5-95fc1bc8436d"
      },
      "source": [
        "#5\n",
        "colours=input(\"enter the names of colours :\").split(',')\n",
        "items=[x for x in colours]\n",
        "items.sort()\n",
        "print(\"sorted data\" ,','.join(items))"
      ],
      "execution_count": 15,
      "outputs": [
        {
          "output_type": "stream",
          "text": [
            "enter the names of colours :orange,white,red,cyan,green,magenta,cyan,pink,white\n",
            "sorted data cyan,cyan,green,magenta,orange,pink,red,white,white\n"
          ],
          "name": "stdout"
        }
      ]
    },
    {
      "cell_type": "code",
      "metadata": {
        "id": "VsL1BlFjcAll",
        "colab_type": "code",
        "colab": {
          "base_uri": "https://localhost:8080/",
          "height": 51
        },
        "outputId": "c40ae82c-15cb-444e-f5de-ea465e09db3f"
      },
      "source": [
        "#6\n",
        "s=int(input(\"enter salary\"))\n",
        "if s<=250000 :\n",
        "  print(\"no tax\")\n",
        "elif s>250000 and s<=500000 :\n",
        "  tax=s*(5/100)\n",
        "  print(\"the tax is\",tax)\n",
        "elif s>500000 and s<=750000 :\n",
        "  tax=s*(10/100)\n",
        "  print(\"the tax is\",tax)\n",
        "elif s>750000 and s<=1000000 :\n",
        "  tax=s*(15/100)\n",
        "  print(\"the tax is\",tax)\n",
        "elif s>1000000 and s<=1250000 :\n",
        "  tax=s*(20/100)\n",
        "  print(\"the tax is\",tax)\n",
        "elif s>1250000 and s<=1500000 :\n",
        "  tax=s*(25/100)\n",
        "  print(\"the tax is\",tax)\n",
        "elif s>1500000 :\n",
        "  tax=s*(30/100)\n",
        "  print(\"the tax is\",tax)\n",
        "\n"
      ],
      "execution_count": 18,
      "outputs": [
        {
          "output_type": "stream",
          "text": [
            "enter salary1550000\n",
            "the tax is 465000.0\n"
          ],
          "name": "stdout"
        }
      ]
    },
    {
      "cell_type": "code",
      "metadata": {
        "id": "tHY-drnDk8xh",
        "colab_type": "code",
        "colab": {
          "base_uri": "https://localhost:8080/",
          "height": 34
        },
        "outputId": "fbf95f57-c39c-4319-a727-c550ccee54c6"
      },
      "source": [
        "#7\n",
        "list = [11,33,50]\n",
        "for i in list :\n",
        "  print(i,end=\"\")\n"
      ],
      "execution_count": 19,
      "outputs": [
        {
          "output_type": "stream",
          "text": [
            "113350"
          ],
          "name": "stdout"
        }
      ]
    },
    {
      "cell_type": "code",
      "metadata": {
        "id": "zG7eV8k5vwRI",
        "colab_type": "code",
        "colab": {
          "base_uri": "https://localhost:8080/",
          "height": 102
        },
        "outputId": "cf6b96e1-ed35-4a30-95b1-61e88cf1d539"
      },
      "source": [
        "#8\n",
        "days=int(input(\"enter no of days:\"))\n",
        "hours=int(input(\"enter hours :\"))\n",
        "mins=int(input(\"enter minutes :\"))\n",
        "secs=int(input(\"enter seconds:\"))\n",
        "total=days*24*60*60+hours*60*60+mins*60+s\n",
        "print(total)"
      ],
      "execution_count": 23,
      "outputs": [
        {
          "output_type": "stream",
          "text": [
            "enter no of days:1\n",
            "enter hours :24\n",
            "enter minutes :60\n",
            "enter seconds:60\n",
            "1726400\n"
          ],
          "name": "stdout"
        }
      ]
    },
    {
      "cell_type": "code",
      "metadata": {
        "id": "iWc9ltbuxZEQ",
        "colab_type": "code",
        "colab": {
          "base_uri": "https://localhost:8080/",
          "height": 85
        },
        "outputId": "a7ef6729-bad8-45a1-b03c-3124e04c8561"
      },
      "source": [
        "#9\n",
        "a=int(input(\"enter first integer\"))\n",
        "b=int(input(\"enter second integer\"))\n",
        "c=int(input(\"enter third integer\"))\n",
        "ma=max(a,b,c)\n",
        "mi=min(a,b,c)\n",
        "v=a+b+c-ma-mi\n",
        "print(ma,mi,v)"
      ],
      "execution_count": 24,
      "outputs": [
        {
          "output_type": "stream",
          "text": [
            "enter first integer6\n",
            "enter second integer8\n",
            "enter third integer10\n",
            "10 6 8\n"
          ],
          "name": "stdout"
        }
      ]
    },
    {
      "cell_type": "code",
      "metadata": {
        "id": "St-zG-ogyaEm",
        "colab_type": "code",
        "colab": {
          "base_uri": "https://localhost:8080/",
          "height": 51
        },
        "outputId": "56c71687-12c5-4cbd-f018-c1e324b6ff78"
      },
      "source": [
        "#10\n",
        "d=input(\"enter the date\")\n",
        "s=d.split('-')\n",
        "r=int(s[2])+1\n",
        "s[2]=str(r)\n",
        "print(f\"{s[0]+'-'+s[1]+'-'+s[2]}\")"
      ],
      "execution_count": 28,
      "outputs": [
        {
          "output_type": "stream",
          "text": [
            "enter the date2020-7-7\n",
            "2020-7-8\n"
          ],
          "name": "stdout"
        }
      ]
    },
    {
      "cell_type": "code",
      "metadata": {
        "id": "4sJFhE6OzQk6",
        "colab_type": "code",
        "colab": {
          "base_uri": "https://localhost:8080/",
          "height": 34
        },
        "outputId": "213cfc0a-8c38-471f-9a2f-31e515548698"
      },
      "source": [
        "#11\n",
        "list=[45,3,2,89,72,1,10,7]\n",
        "product=1\n",
        "for i in list :\n",
        "  product*=i\n",
        "print(f\"product is {product}\")\n",
        "\n"
      ],
      "execution_count": 32,
      "outputs": [
        {
          "output_type": "stream",
          "text": [
            "product is 121111200\n"
          ],
          "name": "stdout"
        }
      ]
    },
    {
      "cell_type": "code",
      "metadata": {
        "id": "54ENrnuGzrOT",
        "colab_type": "code",
        "colab": {
          "base_uri": "https://localhost:8080/",
          "height": 34
        },
        "outputId": "df2d3af1-1b45-4e84-8f5f-63bc82205dd6"
      },
      "source": [
        "#12\n",
        "num_list=[5,6,8,34,89,1]\n",
        "y=[]\n",
        "x=0\n",
        "for i in num_list :\n",
        "  x+=1\n",
        "  if x<len(num_list) :\n",
        "    y.append(i+num_list[x])\n",
        "print(y)"
      ],
      "execution_count": 34,
      "outputs": [
        {
          "output_type": "stream",
          "text": [
            "[11, 14, 42, 123, 90]\n"
          ],
          "name": "stdout"
        }
      ]
    },
    {
      "cell_type": "code",
      "metadata": {
        "id": "H7X6Yr4h08o8",
        "colab_type": "code",
        "colab": {
          "base_uri": "https://localhost:8080/",
          "height": 34
        },
        "outputId": "21d547ca-bd1c-4633-eba3-8b0d241135f8"
      },
      "source": [
        "#13\n",
        "num_tuple=(5,6,8,3,9,1)\n",
        "product=1\n",
        "list=[]\n",
        "for i in num_tuple :\n",
        "  product=product*i\n",
        "  list.append(product)\n",
        "print(list)"
      ],
      "execution_count": 37,
      "outputs": [
        {
          "output_type": "stream",
          "text": [
            "[5, 30, 240, 720, 6480, 6480]\n"
          ],
          "name": "stdout"
        }
      ]
    },
    {
      "cell_type": "code",
      "metadata": {
        "id": "TBTlBa8x1bLe",
        "colab_type": "code",
        "colab": {
          "base_uri": "https://localhost:8080/",
          "height": 51
        },
        "outputId": "21de8dd8-d4b7-4d0c-ed4e-2ac8c7e19127"
      },
      "source": [
        "#14\n",
        "n=int(input(\"enter a number:\"))\n",
        "list=[]\n",
        "for i in str(n) :\n",
        "  list.append(int(i))\n",
        "print(list)"
      ],
      "execution_count": 40,
      "outputs": [
        {
          "output_type": "stream",
          "text": [
            "enter a number:586392\n",
            "[5, 8, 6, 3, 9, 2]\n"
          ],
          "name": "stdout"
        }
      ]
    },
    {
      "cell_type": "code",
      "metadata": {
        "id": "1cxiE9Zp4ddQ",
        "colab_type": "code",
        "colab": {
          "base_uri": "https://localhost:8080/",
          "height": 68
        },
        "outputId": "910dea43-02af-460b-aea0-815daaf3e457"
      },
      "source": [
        "#16\n",
        "x=input(\"eneter binary num of length of 10\")\n",
        "y= input(\"enter binary num of length of 5\")\n",
        "if y[:] in x[:] :\n",
        "  print (1)\n",
        "else :\n",
        "  print(0)"
      ],
      "execution_count": 48,
      "outputs": [
        {
          "output_type": "stream",
          "text": [
            "eneter binary num of length of 101010101010\n",
            "enter binary num of length of 510101\n",
            "1\n"
          ],
          "name": "stdout"
        }
      ]
    }
  ]
}